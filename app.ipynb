{
 "cells": [
  {
   "cell_type": "code",
   "execution_count": 1,
   "metadata": {},
   "outputs": [],
   "source": [
    "import pandas as pd\n",
    "import numpy as np\n",
    "import matplotlib.pyplot as plt\n",
    "import seaborn as sns\n",
    "import scipy as sp\n",
    "\n",
    "\n",
    "\n",
    "df = pd.read_csv(\"amazon.csv\")"
   ]
  },
  {
   "cell_type": "code",
   "execution_count": 2,
   "metadata": {},
   "outputs": [
    {
     "data": {
      "text/html": [
       "<div>\n",
       "<style scoped>\n",
       "    .dataframe tbody tr th:only-of-type {\n",
       "        vertical-align: middle;\n",
       "    }\n",
       "\n",
       "    .dataframe tbody tr th {\n",
       "        vertical-align: top;\n",
       "    }\n",
       "\n",
       "    .dataframe thead th {\n",
       "        text-align: right;\n",
       "    }\n",
       "</style>\n",
       "<table border=\"1\" class=\"dataframe\">\n",
       "  <thead>\n",
       "    <tr style=\"text-align: right;\">\n",
       "      <th></th>\n",
       "      <th>product_id</th>\n",
       "      <th>product_name</th>\n",
       "      <th>category</th>\n",
       "      <th>discounted_price</th>\n",
       "      <th>actual_price</th>\n",
       "      <th>discount_percentage</th>\n",
       "      <th>rating</th>\n",
       "      <th>rating_count</th>\n",
       "      <th>about_product</th>\n",
       "      <th>user_id</th>\n",
       "      <th>user_name</th>\n",
       "      <th>review_id</th>\n",
       "      <th>review_title</th>\n",
       "      <th>review_content</th>\n",
       "      <th>img_link</th>\n",
       "      <th>product_link</th>\n",
       "    </tr>\n",
       "  </thead>\n",
       "  <tbody>\n",
       "    <tr>\n",
       "      <th>0</th>\n",
       "      <td>B07JW9H4J1</td>\n",
       "      <td>Wayona Nylon Braided USB to Lightning Fast Cha...</td>\n",
       "      <td>Computers&amp;Accessories|Accessories&amp;Peripherals|...</td>\n",
       "      <td>₹399</td>\n",
       "      <td>₹1,099</td>\n",
       "      <td>64%</td>\n",
       "      <td>4.2</td>\n",
       "      <td>24,269</td>\n",
       "      <td>High Compatibility : Compatible With iPhone 12...</td>\n",
       "      <td>AG3D6O4STAQKAY2UVGEUV46KN35Q,AHMY5CWJMMK5BJRBB...</td>\n",
       "      <td>Manav,Adarsh gupta,Sundeep,S.Sayeed Ahmed,jasp...</td>\n",
       "      <td>R3HXWT0LRP0NMF,R2AJM3LFTLZHFO,R6AQJGUP6P86,R1K...</td>\n",
       "      <td>Satisfied,Charging is really fast,Value for mo...</td>\n",
       "      <td>Looks durable Charging is fine tooNo complains...</td>\n",
       "      <td>https://m.media-amazon.com/images/W/WEBP_40237...</td>\n",
       "      <td>https://www.amazon.in/Wayona-Braided-WN3LG1-Sy...</td>\n",
       "    </tr>\n",
       "    <tr>\n",
       "      <th>1</th>\n",
       "      <td>B098NS6PVG</td>\n",
       "      <td>Ambrane Unbreakable 60W / 3A Fast Charging 1.5...</td>\n",
       "      <td>Computers&amp;Accessories|Accessories&amp;Peripherals|...</td>\n",
       "      <td>₹199</td>\n",
       "      <td>₹349</td>\n",
       "      <td>43%</td>\n",
       "      <td>4.0</td>\n",
       "      <td>43,994</td>\n",
       "      <td>Compatible with all Type C enabled devices, be...</td>\n",
       "      <td>AECPFYFQVRUWC3KGNLJIOREFP5LQ,AGYYVPDD7YG7FYNBX...</td>\n",
       "      <td>ArdKn,Nirbhay kumar,Sagar Viswanathan,Asp,Plac...</td>\n",
       "      <td>RGIQEG07R9HS2,R1SMWZQ86XIN8U,R2J3Y1WL29GWDE,RY...</td>\n",
       "      <td>A Good Braided Cable for Your Type C Device,Go...</td>\n",
       "      <td>I ordered this cable to connect my phone to An...</td>\n",
       "      <td>https://m.media-amazon.com/images/W/WEBP_40237...</td>\n",
       "      <td>https://www.amazon.in/Ambrane-Unbreakable-Char...</td>\n",
       "    </tr>\n",
       "    <tr>\n",
       "      <th>2</th>\n",
       "      <td>B096MSW6CT</td>\n",
       "      <td>Sounce Fast Phone Charging Cable &amp; Data Sync U...</td>\n",
       "      <td>Computers&amp;Accessories|Accessories&amp;Peripherals|...</td>\n",
       "      <td>₹199</td>\n",
       "      <td>₹1,899</td>\n",
       "      <td>90%</td>\n",
       "      <td>3.9</td>\n",
       "      <td>7,928</td>\n",
       "      <td>【 Fast Charger&amp; Data Sync】-With built-in safet...</td>\n",
       "      <td>AGU3BBQ2V2DDAMOAKGFAWDDQ6QHA,AESFLDV2PT363T2AQ...</td>\n",
       "      <td>Kunal,Himanshu,viswanath,sai niharka,saqib mal...</td>\n",
       "      <td>R3J3EQQ9TZI5ZJ,R3E7WBGK7ID0KV,RWU79XKQ6I1QF,R2...</td>\n",
       "      <td>Good speed for earlier versions,Good Product,W...</td>\n",
       "      <td>Not quite durable and sturdy,https://m.media-a...</td>\n",
       "      <td>https://m.media-amazon.com/images/W/WEBP_40237...</td>\n",
       "      <td>https://www.amazon.in/Sounce-iPhone-Charging-C...</td>\n",
       "    </tr>\n",
       "    <tr>\n",
       "      <th>3</th>\n",
       "      <td>B08HDJ86NZ</td>\n",
       "      <td>boAt Deuce USB 300 2 in 1 Type-C &amp; Micro USB S...</td>\n",
       "      <td>Computers&amp;Accessories|Accessories&amp;Peripherals|...</td>\n",
       "      <td>₹329</td>\n",
       "      <td>₹699</td>\n",
       "      <td>53%</td>\n",
       "      <td>4.2</td>\n",
       "      <td>94,363</td>\n",
       "      <td>The boAt Deuce USB 300 2 in 1 cable is compati...</td>\n",
       "      <td>AEWAZDZZJLQUYVOVGBEUKSLXHQ5A,AG5HTSFRRE6NL3M5S...</td>\n",
       "      <td>Omkar dhale,JD,HEMALATHA,Ajwadh a.,amar singh ...</td>\n",
       "      <td>R3EEUZKKK9J36I,R3HJVYCLYOY554,REDECAZ7AMPQC,R1...</td>\n",
       "      <td>Good product,Good one,Nice,Really nice product...</td>\n",
       "      <td>Good product,long wire,Charges good,Nice,I bou...</td>\n",
       "      <td>https://m.media-amazon.com/images/I/41V5FtEWPk...</td>\n",
       "      <td>https://www.amazon.in/Deuce-300-Resistant-Tang...</td>\n",
       "    </tr>\n",
       "    <tr>\n",
       "      <th>4</th>\n",
       "      <td>B08CF3B7N1</td>\n",
       "      <td>Portronics Konnect L 1.2M Fast Charging 3A 8 P...</td>\n",
       "      <td>Computers&amp;Accessories|Accessories&amp;Peripherals|...</td>\n",
       "      <td>₹154</td>\n",
       "      <td>₹399</td>\n",
       "      <td>61%</td>\n",
       "      <td>4.2</td>\n",
       "      <td>16,905</td>\n",
       "      <td>[CHARGE &amp; SYNC FUNCTION]- This cable comes wit...</td>\n",
       "      <td>AE3Q6KSUK5P75D5HFYHCRAOLODSA,AFUGIFH5ZAFXRDSZH...</td>\n",
       "      <td>rahuls6099,Swasat Borah,Ajay Wadke,Pranali,RVK...</td>\n",
       "      <td>R1BP4L2HH9TFUP,R16PVJEXKV6QZS,R2UPDB81N66T4P,R...</td>\n",
       "      <td>As good as original,Decent,Good one for second...</td>\n",
       "      <td>Bought this instead of original apple, does th...</td>\n",
       "      <td>https://m.media-amazon.com/images/W/WEBP_40237...</td>\n",
       "      <td>https://www.amazon.in/Portronics-Konnect-POR-1...</td>\n",
       "    </tr>\n",
       "  </tbody>\n",
       "</table>\n",
       "</div>"
      ],
      "text/plain": [
       "   product_id                                       product_name  \\\n",
       "0  B07JW9H4J1  Wayona Nylon Braided USB to Lightning Fast Cha...   \n",
       "1  B098NS6PVG  Ambrane Unbreakable 60W / 3A Fast Charging 1.5...   \n",
       "2  B096MSW6CT  Sounce Fast Phone Charging Cable & Data Sync U...   \n",
       "3  B08HDJ86NZ  boAt Deuce USB 300 2 in 1 Type-C & Micro USB S...   \n",
       "4  B08CF3B7N1  Portronics Konnect L 1.2M Fast Charging 3A 8 P...   \n",
       "\n",
       "                                            category discounted_price  \\\n",
       "0  Computers&Accessories|Accessories&Peripherals|...             ₹399   \n",
       "1  Computers&Accessories|Accessories&Peripherals|...             ₹199   \n",
       "2  Computers&Accessories|Accessories&Peripherals|...             ₹199   \n",
       "3  Computers&Accessories|Accessories&Peripherals|...             ₹329   \n",
       "4  Computers&Accessories|Accessories&Peripherals|...             ₹154   \n",
       "\n",
       "  actual_price discount_percentage rating rating_count  \\\n",
       "0       ₹1,099                 64%    4.2       24,269   \n",
       "1         ₹349                 43%    4.0       43,994   \n",
       "2       ₹1,899                 90%    3.9        7,928   \n",
       "3         ₹699                 53%    4.2       94,363   \n",
       "4         ₹399                 61%    4.2       16,905   \n",
       "\n",
       "                                       about_product  \\\n",
       "0  High Compatibility : Compatible With iPhone 12...   \n",
       "1  Compatible with all Type C enabled devices, be...   \n",
       "2  【 Fast Charger& Data Sync】-With built-in safet...   \n",
       "3  The boAt Deuce USB 300 2 in 1 cable is compati...   \n",
       "4  [CHARGE & SYNC FUNCTION]- This cable comes wit...   \n",
       "\n",
       "                                             user_id  \\\n",
       "0  AG3D6O4STAQKAY2UVGEUV46KN35Q,AHMY5CWJMMK5BJRBB...   \n",
       "1  AECPFYFQVRUWC3KGNLJIOREFP5LQ,AGYYVPDD7YG7FYNBX...   \n",
       "2  AGU3BBQ2V2DDAMOAKGFAWDDQ6QHA,AESFLDV2PT363T2AQ...   \n",
       "3  AEWAZDZZJLQUYVOVGBEUKSLXHQ5A,AG5HTSFRRE6NL3M5S...   \n",
       "4  AE3Q6KSUK5P75D5HFYHCRAOLODSA,AFUGIFH5ZAFXRDSZH...   \n",
       "\n",
       "                                           user_name  \\\n",
       "0  Manav,Adarsh gupta,Sundeep,S.Sayeed Ahmed,jasp...   \n",
       "1  ArdKn,Nirbhay kumar,Sagar Viswanathan,Asp,Plac...   \n",
       "2  Kunal,Himanshu,viswanath,sai niharka,saqib mal...   \n",
       "3  Omkar dhale,JD,HEMALATHA,Ajwadh a.,amar singh ...   \n",
       "4  rahuls6099,Swasat Borah,Ajay Wadke,Pranali,RVK...   \n",
       "\n",
       "                                           review_id  \\\n",
       "0  R3HXWT0LRP0NMF,R2AJM3LFTLZHFO,R6AQJGUP6P86,R1K...   \n",
       "1  RGIQEG07R9HS2,R1SMWZQ86XIN8U,R2J3Y1WL29GWDE,RY...   \n",
       "2  R3J3EQQ9TZI5ZJ,R3E7WBGK7ID0KV,RWU79XKQ6I1QF,R2...   \n",
       "3  R3EEUZKKK9J36I,R3HJVYCLYOY554,REDECAZ7AMPQC,R1...   \n",
       "4  R1BP4L2HH9TFUP,R16PVJEXKV6QZS,R2UPDB81N66T4P,R...   \n",
       "\n",
       "                                        review_title  \\\n",
       "0  Satisfied,Charging is really fast,Value for mo...   \n",
       "1  A Good Braided Cable for Your Type C Device,Go...   \n",
       "2  Good speed for earlier versions,Good Product,W...   \n",
       "3  Good product,Good one,Nice,Really nice product...   \n",
       "4  As good as original,Decent,Good one for second...   \n",
       "\n",
       "                                      review_content  \\\n",
       "0  Looks durable Charging is fine tooNo complains...   \n",
       "1  I ordered this cable to connect my phone to An...   \n",
       "2  Not quite durable and sturdy,https://m.media-a...   \n",
       "3  Good product,long wire,Charges good,Nice,I bou...   \n",
       "4  Bought this instead of original apple, does th...   \n",
       "\n",
       "                                            img_link  \\\n",
       "0  https://m.media-amazon.com/images/W/WEBP_40237...   \n",
       "1  https://m.media-amazon.com/images/W/WEBP_40237...   \n",
       "2  https://m.media-amazon.com/images/W/WEBP_40237...   \n",
       "3  https://m.media-amazon.com/images/I/41V5FtEWPk...   \n",
       "4  https://m.media-amazon.com/images/W/WEBP_40237...   \n",
       "\n",
       "                                        product_link  \n",
       "0  https://www.amazon.in/Wayona-Braided-WN3LG1-Sy...  \n",
       "1  https://www.amazon.in/Ambrane-Unbreakable-Char...  \n",
       "2  https://www.amazon.in/Sounce-iPhone-Charging-C...  \n",
       "3  https://www.amazon.in/Deuce-300-Resistant-Tang...  \n",
       "4  https://www.amazon.in/Portronics-Konnect-POR-1...  "
      ]
     },
     "execution_count": 2,
     "metadata": {},
     "output_type": "execute_result"
    }
   ],
   "source": [
    "df.head()"
   ]
  },
  {
   "cell_type": "code",
   "execution_count": 3,
   "metadata": {},
   "outputs": [
    {
     "data": {
      "text/plain": [
       "Index(['product_id', 'product_name', 'category', 'discounted_price',\n",
       "       'actual_price', 'discount_percentage', 'rating', 'rating_count',\n",
       "       'about_product', 'user_id', 'user_name', 'review_id', 'review_title',\n",
       "       'review_content', 'img_link', 'product_link'],\n",
       "      dtype='object')"
      ]
     },
     "execution_count": 3,
     "metadata": {},
     "output_type": "execute_result"
    }
   ],
   "source": [
    "df.columns"
   ]
  },
  {
   "cell_type": "code",
   "execution_count": 4,
   "metadata": {},
   "outputs": [
    {
     "data": {
      "text/plain": [
       "(1465, 16)"
      ]
     },
     "execution_count": 4,
     "metadata": {},
     "output_type": "execute_result"
    }
   ],
   "source": [
    "df.shape"
   ]
  },
  {
   "cell_type": "code",
   "execution_count": 5,
   "metadata": {},
   "outputs": [
    {
     "name": "stdout",
     "output_type": "stream",
     "text": [
      "<class 'pandas.core.frame.DataFrame'>\n",
      "RangeIndex: 1465 entries, 0 to 1464\n",
      "Data columns (total 16 columns):\n",
      " #   Column               Non-Null Count  Dtype \n",
      "---  ------               --------------  ----- \n",
      " 0   product_id           1465 non-null   object\n",
      " 1   product_name         1465 non-null   object\n",
      " 2   category             1465 non-null   object\n",
      " 3   discounted_price     1465 non-null   object\n",
      " 4   actual_price         1465 non-null   object\n",
      " 5   discount_percentage  1465 non-null   object\n",
      " 6   rating               1465 non-null   object\n",
      " 7   rating_count         1463 non-null   object\n",
      " 8   about_product        1465 non-null   object\n",
      " 9   user_id              1465 non-null   object\n",
      " 10  user_name            1465 non-null   object\n",
      " 11  review_id            1465 non-null   object\n",
      " 12  review_title         1465 non-null   object\n",
      " 13  review_content       1465 non-null   object\n",
      " 14  img_link             1465 non-null   object\n",
      " 15  product_link         1465 non-null   object\n",
      "dtypes: object(16)\n",
      "memory usage: 183.3+ KB\n"
     ]
    }
   ],
   "source": [
    "df.info()"
   ]
  },
  {
   "cell_type": "code",
   "execution_count": 6,
   "metadata": {},
   "outputs": [
    {
     "data": {
      "text/plain": [
       "product_id             0\n",
       "product_name           0\n",
       "category               0\n",
       "discounted_price       0\n",
       "actual_price           0\n",
       "discount_percentage    0\n",
       "rating                 0\n",
       "rating_count           2\n",
       "about_product          0\n",
       "user_id                0\n",
       "user_name              0\n",
       "review_id              0\n",
       "review_title           0\n",
       "review_content         0\n",
       "img_link               0\n",
       "product_link           0\n",
       "dtype: int64"
      ]
     },
     "execution_count": 6,
     "metadata": {},
     "output_type": "execute_result"
    }
   ],
   "source": [
    "df.isnull().sum()"
   ]
  },
  {
   "cell_type": "code",
   "execution_count": 7,
   "metadata": {},
   "outputs": [],
   "source": [
    "# Changing the data type of discounted price and actual price\n",
    "df['discounted_price'] = df['discounted_price'].str.replace(\"₹\",'')\n",
    "df['discounted_price'] = df['discounted_price'].str.replace(\",\",'')\n",
    "df['discounted_price'] = df['discounted_price'].astype('float64')\n",
    "df['actual_price'] = df['actual_price'].str.replace(\"₹\",'')\n",
    "df['actual_price'] = df['actual_price'].str.replace(\",\",'')\n",
    "df['actual_price'] = df['actual_price'].astype('float64')"
   ]
  },
  {
   "cell_type": "code",
   "execution_count": 8,
   "metadata": {},
   "outputs": [
    {
     "name": "stdout",
     "output_type": "stream",
     "text": [
      "<class 'pandas.core.frame.DataFrame'>\n",
      "RangeIndex: 1465 entries, 0 to 1464\n",
      "Data columns (total 16 columns):\n",
      " #   Column               Non-Null Count  Dtype  \n",
      "---  ------               --------------  -----  \n",
      " 0   product_id           1465 non-null   object \n",
      " 1   product_name         1465 non-null   object \n",
      " 2   category             1465 non-null   object \n",
      " 3   discounted_price     1465 non-null   float64\n",
      " 4   actual_price         1465 non-null   float64\n",
      " 5   discount_percentage  1465 non-null   object \n",
      " 6   rating               1465 non-null   object \n",
      " 7   rating_count         1463 non-null   object \n",
      " 8   about_product        1465 non-null   object \n",
      " 9   user_id              1465 non-null   object \n",
      " 10  user_name            1465 non-null   object \n",
      " 11  review_id            1465 non-null   object \n",
      " 12  review_title         1465 non-null   object \n",
      " 13  review_content       1465 non-null   object \n",
      " 14  img_link             1465 non-null   object \n",
      " 15  product_link         1465 non-null   object \n",
      "dtypes: float64(2), object(14)\n",
      "memory usage: 183.3+ KB\n"
     ]
    }
   ],
   "source": [
    "df.info()"
   ]
  },
  {
   "cell_type": "code",
   "execution_count": 9,
   "metadata": {},
   "outputs": [],
   "source": [
    "# Changing Datatype and values in Discount Percentage\n",
    "df['discount_percentage'] = df['discount_percentage'].str.replace('%','').astype('float64')\n",
    "df['discount_percentage'] = df['discount_percentage'] / 100"
   ]
  },
  {
   "cell_type": "code",
   "execution_count": 10,
   "metadata": {},
   "outputs": [
    {
     "name": "stdout",
     "output_type": "stream",
     "text": [
      "<class 'pandas.core.frame.DataFrame'>\n",
      "RangeIndex: 1465 entries, 0 to 1464\n",
      "Data columns (total 16 columns):\n",
      " #   Column               Non-Null Count  Dtype  \n",
      "---  ------               --------------  -----  \n",
      " 0   product_id           1465 non-null   object \n",
      " 1   product_name         1465 non-null   object \n",
      " 2   category             1465 non-null   object \n",
      " 3   discounted_price     1465 non-null   float64\n",
      " 4   actual_price         1465 non-null   float64\n",
      " 5   discount_percentage  1465 non-null   float64\n",
      " 6   rating               1465 non-null   object \n",
      " 7   rating_count         1463 non-null   object \n",
      " 8   about_product        1465 non-null   object \n",
      " 9   user_id              1465 non-null   object \n",
      " 10  user_name            1465 non-null   object \n",
      " 11  review_id            1465 non-null   object \n",
      " 12  review_title         1465 non-null   object \n",
      " 13  review_content       1465 non-null   object \n",
      " 14  img_link             1465 non-null   object \n",
      " 15  product_link         1465 non-null   object \n",
      "dtypes: float64(3), object(13)\n",
      "memory usage: 183.3+ KB\n"
     ]
    }
   ],
   "source": [
    "df.info()"
   ]
  },
  {
   "cell_type": "code",
   "execution_count": 11,
   "metadata": {},
   "outputs": [
    {
     "data": {
      "text/plain": [
       "rating\n",
       "4.1    244\n",
       "4.3    230\n",
       "4.2    228\n",
       "4.0    129\n",
       "3.9    123\n",
       "4.4    123\n",
       "3.8     86\n",
       "4.5     75\n",
       "4       52\n",
       "3.7     42\n",
       "3.6     35\n",
       "3.5     26\n",
       "4.6     17\n",
       "3.3     16\n",
       "3.4     10\n",
       "4.7      6\n",
       "3.1      4\n",
       "5.0      3\n",
       "3.0      3\n",
       "4.8      3\n",
       "3.2      2\n",
       "2.8      2\n",
       "2.3      1\n",
       "|        1\n",
       "2        1\n",
       "3        1\n",
       "2.6      1\n",
       "2.9      1\n",
       "Name: count, dtype: int64"
      ]
     },
     "execution_count": 11,
     "metadata": {},
     "output_type": "execute_result"
    }
   ],
   "source": [
    "df['rating'].value_counts()"
   ]
  },
  {
   "cell_type": "code",
   "execution_count": 12,
   "metadata": {},
   "outputs": [
    {
     "data": {
      "text/html": [
       "<div>\n",
       "<style scoped>\n",
       "    .dataframe tbody tr th:only-of-type {\n",
       "        vertical-align: middle;\n",
       "    }\n",
       "\n",
       "    .dataframe tbody tr th {\n",
       "        vertical-align: top;\n",
       "    }\n",
       "\n",
       "    .dataframe thead th {\n",
       "        text-align: right;\n",
       "    }\n",
       "</style>\n",
       "<table border=\"1\" class=\"dataframe\">\n",
       "  <thead>\n",
       "    <tr style=\"text-align: right;\">\n",
       "      <th></th>\n",
       "      <th>product_id</th>\n",
       "      <th>product_name</th>\n",
       "      <th>category</th>\n",
       "      <th>discounted_price</th>\n",
       "      <th>actual_price</th>\n",
       "      <th>discount_percentage</th>\n",
       "      <th>rating</th>\n",
       "      <th>rating_count</th>\n",
       "      <th>about_product</th>\n",
       "      <th>user_id</th>\n",
       "      <th>user_name</th>\n",
       "      <th>review_id</th>\n",
       "      <th>review_title</th>\n",
       "      <th>review_content</th>\n",
       "      <th>img_link</th>\n",
       "      <th>product_link</th>\n",
       "    </tr>\n",
       "  </thead>\n",
       "  <tbody>\n",
       "    <tr>\n",
       "      <th>1279</th>\n",
       "      <td>B08L12N5H1</td>\n",
       "      <td>Eureka Forbes car Vac 100 Watts Powerful Sucti...</td>\n",
       "      <td>Home&amp;Kitchen|Kitchen&amp;HomeAppliances|Vacuum,Cle...</td>\n",
       "      <td>2099.0</td>\n",
       "      <td>2499.0</td>\n",
       "      <td>0.16</td>\n",
       "      <td>|</td>\n",
       "      <td>992</td>\n",
       "      <td>No Installation is provided for this product|1...</td>\n",
       "      <td>AGTDSNT2FKVYEPDPXAA673AIS44A,AER2XFSWNN4LAUCJ5...</td>\n",
       "      <td>Divya,Dr Nefario,Deekshith,Preeti,Prasanth R,P...</td>\n",
       "      <td>R2KKTKM4M9RDVJ,R1O692MZOBTE79,R2WRSEWL56SOS4,R...</td>\n",
       "      <td>Decent product,doesn't pick up sand,Ok ok,Must...</td>\n",
       "      <td>Does the job well,doesn't work on sand. though...</td>\n",
       "      <td>https://m.media-amazon.com/images/W/WEBP_40237...</td>\n",
       "      <td>https://www.amazon.in/Eureka-Forbes-Vacuum-Cle...</td>\n",
       "    </tr>\n",
       "  </tbody>\n",
       "</table>\n",
       "</div>"
      ],
      "text/plain": [
       "      product_id                                       product_name  \\\n",
       "1279  B08L12N5H1  Eureka Forbes car Vac 100 Watts Powerful Sucti...   \n",
       "\n",
       "                                               category  discounted_price  \\\n",
       "1279  Home&Kitchen|Kitchen&HomeAppliances|Vacuum,Cle...            2099.0   \n",
       "\n",
       "      actual_price  discount_percentage rating rating_count  \\\n",
       "1279        2499.0                 0.16      |          992   \n",
       "\n",
       "                                          about_product  \\\n",
       "1279  No Installation is provided for this product|1...   \n",
       "\n",
       "                                                user_id  \\\n",
       "1279  AGTDSNT2FKVYEPDPXAA673AIS44A,AER2XFSWNN4LAUCJ5...   \n",
       "\n",
       "                                              user_name  \\\n",
       "1279  Divya,Dr Nefario,Deekshith,Preeti,Prasanth R,P...   \n",
       "\n",
       "                                              review_id  \\\n",
       "1279  R2KKTKM4M9RDVJ,R1O692MZOBTE79,R2WRSEWL56SOS4,R...   \n",
       "\n",
       "                                           review_title  \\\n",
       "1279  Decent product,doesn't pick up sand,Ok ok,Must...   \n",
       "\n",
       "                                         review_content  \\\n",
       "1279  Does the job well,doesn't work on sand. though...   \n",
       "\n",
       "                                               img_link  \\\n",
       "1279  https://m.media-amazon.com/images/W/WEBP_40237...   \n",
       "\n",
       "                                           product_link  \n",
       "1279  https://www.amazon.in/Eureka-Forbes-Vacuum-Cle...  "
      ]
     },
     "execution_count": 12,
     "metadata": {},
     "output_type": "execute_result"
    }
   ],
   "source": [
    "# Check the strange row\n",
    "df.query('rating == \"|\"')"
   ]
  },
  {
   "cell_type": "code",
   "execution_count": 13,
   "metadata": {},
   "outputs": [],
   "source": [
    "# Changing Rating Columns Data Type\n",
    "df['rating'] = df['rating'].str.replace('|', '3.9').astype('float64')\n",
    "\n",
    "# Changing 'rating_count' Column Data Type\n",
    "df['rating_count'] = df['rating_count'].str.replace(',', '').astype('float64')\n"
   ]
  },
  {
   "cell_type": "code",
   "execution_count": 14,
   "metadata": {},
   "outputs": [
    {
     "name": "stdout",
     "output_type": "stream",
     "text": [
      "<class 'pandas.core.frame.DataFrame'>\n",
      "RangeIndex: 1465 entries, 0 to 1464\n",
      "Data columns (total 16 columns):\n",
      " #   Column               Non-Null Count  Dtype  \n",
      "---  ------               --------------  -----  \n",
      " 0   product_id           1465 non-null   object \n",
      " 1   product_name         1465 non-null   object \n",
      " 2   category             1465 non-null   object \n",
      " 3   discounted_price     1465 non-null   float64\n",
      " 4   actual_price         1465 non-null   float64\n",
      " 5   discount_percentage  1465 non-null   float64\n",
      " 6   rating               1465 non-null   float64\n",
      " 7   rating_count         1463 non-null   float64\n",
      " 8   about_product        1465 non-null   object \n",
      " 9   user_id              1465 non-null   object \n",
      " 10  user_name            1465 non-null   object \n",
      " 11  review_id            1465 non-null   object \n",
      " 12  review_title         1465 non-null   object \n",
      " 13  review_content       1465 non-null   object \n",
      " 14  img_link             1465 non-null   object \n",
      " 15  product_link         1465 non-null   object \n",
      "dtypes: float64(5), object(11)\n",
      "memory usage: 183.3+ KB\n"
     ]
    }
   ],
   "source": [
    "df.info()"
   ]
  },
  {
   "cell_type": "code",
   "execution_count": 15,
   "metadata": {},
   "outputs": [
    {
     "data": {
      "text/html": [
       "<div>\n",
       "<style scoped>\n",
       "    .dataframe tbody tr th:only-of-type {\n",
       "        vertical-align: middle;\n",
       "    }\n",
       "\n",
       "    .dataframe tbody tr th {\n",
       "        vertical-align: top;\n",
       "    }\n",
       "\n",
       "    .dataframe thead th {\n",
       "        text-align: right;\n",
       "    }\n",
       "</style>\n",
       "<table border=\"1\" class=\"dataframe\">\n",
       "  <thead>\n",
       "    <tr style=\"text-align: right;\">\n",
       "      <th></th>\n",
       "      <th>discounted_price</th>\n",
       "      <th>actual_price</th>\n",
       "      <th>discount_percentage</th>\n",
       "      <th>rating</th>\n",
       "      <th>rating_count</th>\n",
       "    </tr>\n",
       "  </thead>\n",
       "  <tbody>\n",
       "    <tr>\n",
       "      <th>count</th>\n",
       "      <td>1465.000000</td>\n",
       "      <td>1465.000000</td>\n",
       "      <td>1465.000000</td>\n",
       "      <td>1465.000000</td>\n",
       "      <td>1463.000000</td>\n",
       "    </tr>\n",
       "    <tr>\n",
       "      <th>mean</th>\n",
       "      <td>3125.310874</td>\n",
       "      <td>5444.990635</td>\n",
       "      <td>0.476915</td>\n",
       "      <td>4.096451</td>\n",
       "      <td>18295.541353</td>\n",
       "    </tr>\n",
       "    <tr>\n",
       "      <th>std</th>\n",
       "      <td>6944.304394</td>\n",
       "      <td>10874.826864</td>\n",
       "      <td>0.216359</td>\n",
       "      <td>0.291620</td>\n",
       "      <td>42753.864952</td>\n",
       "    </tr>\n",
       "    <tr>\n",
       "      <th>min</th>\n",
       "      <td>39.000000</td>\n",
       "      <td>39.000000</td>\n",
       "      <td>0.000000</td>\n",
       "      <td>2.000000</td>\n",
       "      <td>2.000000</td>\n",
       "    </tr>\n",
       "    <tr>\n",
       "      <th>25%</th>\n",
       "      <td>325.000000</td>\n",
       "      <td>800.000000</td>\n",
       "      <td>0.320000</td>\n",
       "      <td>4.000000</td>\n",
       "      <td>1186.000000</td>\n",
       "    </tr>\n",
       "    <tr>\n",
       "      <th>50%</th>\n",
       "      <td>799.000000</td>\n",
       "      <td>1650.000000</td>\n",
       "      <td>0.500000</td>\n",
       "      <td>4.100000</td>\n",
       "      <td>5179.000000</td>\n",
       "    </tr>\n",
       "    <tr>\n",
       "      <th>75%</th>\n",
       "      <td>1999.000000</td>\n",
       "      <td>4295.000000</td>\n",
       "      <td>0.630000</td>\n",
       "      <td>4.300000</td>\n",
       "      <td>17336.500000</td>\n",
       "    </tr>\n",
       "    <tr>\n",
       "      <th>max</th>\n",
       "      <td>77990.000000</td>\n",
       "      <td>139900.000000</td>\n",
       "      <td>0.940000</td>\n",
       "      <td>5.000000</td>\n",
       "      <td>426973.000000</td>\n",
       "    </tr>\n",
       "  </tbody>\n",
       "</table>\n",
       "</div>"
      ],
      "text/plain": [
       "       discounted_price   actual_price  discount_percentage       rating  \\\n",
       "count       1465.000000    1465.000000          1465.000000  1465.000000   \n",
       "mean        3125.310874    5444.990635             0.476915     4.096451   \n",
       "std         6944.304394   10874.826864             0.216359     0.291620   \n",
       "min           39.000000      39.000000             0.000000     2.000000   \n",
       "25%          325.000000     800.000000             0.320000     4.000000   \n",
       "50%          799.000000    1650.000000             0.500000     4.100000   \n",
       "75%         1999.000000    4295.000000             0.630000     4.300000   \n",
       "max        77990.000000  139900.000000             0.940000     5.000000   \n",
       "\n",
       "        rating_count  \n",
       "count    1463.000000  \n",
       "mean    18295.541353  \n",
       "std     42753.864952  \n",
       "min         2.000000  \n",
       "25%      1186.000000  \n",
       "50%      5179.000000  \n",
       "75%     17336.500000  \n",
       "max    426973.000000  "
      ]
     },
     "execution_count": 15,
     "metadata": {},
     "output_type": "execute_result"
    }
   ],
   "source": [
    "#Data set describtion\n",
    "df.describe()"
   ]
  },
  {
   "cell_type": "markdown",
   "metadata": {},
   "source": [
    "# First Step\n",
    "#Dealing with missing value"
   ]
  },
  {
   "cell_type": "code",
   "execution_count": 16,
   "metadata": {},
   "outputs": [
    {
     "data": {
      "text/plain": [
       "rating_count           2\n",
       "product_id             0\n",
       "product_name           0\n",
       "category               0\n",
       "discounted_price       0\n",
       "actual_price           0\n",
       "discount_percentage    0\n",
       "rating                 0\n",
       "about_product          0\n",
       "user_id                0\n",
       "user_name              0\n",
       "review_id              0\n",
       "review_title           0\n",
       "review_content         0\n",
       "img_link               0\n",
       "product_link           0\n",
       "dtype: int64"
      ]
     },
     "execution_count": 16,
     "metadata": {},
     "output_type": "execute_result"
    }
   ],
   "source": [
    "df.isnull().sum().sort_values(ascending = False)"
   ]
  },
  {
   "cell_type": "code",
   "execution_count": 17,
   "metadata": {},
   "outputs": [
    {
     "data": {
      "text/plain": [
       "2"
      ]
     },
     "execution_count": 17,
     "metadata": {},
     "output_type": "execute_result"
    }
   ],
   "source": [
    "# Find total number of missing values\n",
    "df.isnull().sum().sum()"
   ]
  },
  {
   "cell_type": "code",
   "execution_count": 18,
   "metadata": {},
   "outputs": [
    {
     "data": {
      "text/html": [
       "<div>\n",
       "<style scoped>\n",
       "    .dataframe tbody tr th:only-of-type {\n",
       "        vertical-align: middle;\n",
       "    }\n",
       "\n",
       "    .dataframe tbody tr th {\n",
       "        vertical-align: top;\n",
       "    }\n",
       "\n",
       "    .dataframe thead th {\n",
       "        text-align: right;\n",
       "    }\n",
       "</style>\n",
       "<table border=\"1\" class=\"dataframe\">\n",
       "  <thead>\n",
       "    <tr style=\"text-align: right;\">\n",
       "      <th></th>\n",
       "      <th>product_id</th>\n",
       "      <th>product_name</th>\n",
       "      <th>category</th>\n",
       "      <th>discounted_price</th>\n",
       "      <th>actual_price</th>\n",
       "      <th>discount_percentage</th>\n",
       "      <th>rating</th>\n",
       "      <th>rating_count</th>\n",
       "      <th>about_product</th>\n",
       "      <th>user_id</th>\n",
       "      <th>user_name</th>\n",
       "      <th>review_id</th>\n",
       "      <th>review_title</th>\n",
       "      <th>review_content</th>\n",
       "      <th>img_link</th>\n",
       "      <th>product_link</th>\n",
       "    </tr>\n",
       "  </thead>\n",
       "  <tbody>\n",
       "    <tr>\n",
       "      <th>282</th>\n",
       "      <td>B0B94JPY2N</td>\n",
       "      <td>Amazon Brand - Solimo 65W Fast Charging Braide...</td>\n",
       "      <td>Computers&amp;Accessories|Accessories&amp;Peripherals|...</td>\n",
       "      <td>199.0</td>\n",
       "      <td>999.0</td>\n",
       "      <td>0.80</td>\n",
       "      <td>3.0</td>\n",
       "      <td>NaN</td>\n",
       "      <td>USB C to C Cable: This cable has type C connec...</td>\n",
       "      <td>AE7CFHY23VAJT2FI4NZKKP6GS2UQ</td>\n",
       "      <td>Pranav</td>\n",
       "      <td>RUB7U91HVZ30</td>\n",
       "      <td>The cable works but is not 65W as advertised</td>\n",
       "      <td>I have a pd supported car charger and I bought...</td>\n",
       "      <td>https://m.media-amazon.com/images/W/WEBP_40237...</td>\n",
       "      <td>https://www.amazon.in/Amazon-Brand-Charging-Su...</td>\n",
       "    </tr>\n",
       "    <tr>\n",
       "      <th>324</th>\n",
       "      <td>B0BQRJ3C47</td>\n",
       "      <td>REDTECH USB-C to Lightning Cable 3.3FT, [Apple...</td>\n",
       "      <td>Computers&amp;Accessories|Accessories&amp;Peripherals|...</td>\n",
       "      <td>249.0</td>\n",
       "      <td>999.0</td>\n",
       "      <td>0.75</td>\n",
       "      <td>5.0</td>\n",
       "      <td>NaN</td>\n",
       "      <td>💎[The Fastest Charge] - This iPhone USB C cabl...</td>\n",
       "      <td>AGJC5O5H5BBXWUV7WRIEIOOR3TVQ</td>\n",
       "      <td>Abdul Gafur</td>\n",
       "      <td>RQXD5SAMMPC6L</td>\n",
       "      <td>Awesome Product</td>\n",
       "      <td>Quick delivery.Awesome ProductPacking was good...</td>\n",
       "      <td>https://m.media-amazon.com/images/I/31-q0xhaTA...</td>\n",
       "      <td>https://www.amazon.in/REDTECH-Lightning-Certif...</td>\n",
       "    </tr>\n",
       "  </tbody>\n",
       "</table>\n",
       "</div>"
      ],
      "text/plain": [
       "     product_id                                       product_name  \\\n",
       "282  B0B94JPY2N  Amazon Brand - Solimo 65W Fast Charging Braide...   \n",
       "324  B0BQRJ3C47  REDTECH USB-C to Lightning Cable 3.3FT, [Apple...   \n",
       "\n",
       "                                              category  discounted_price  \\\n",
       "282  Computers&Accessories|Accessories&Peripherals|...             199.0   \n",
       "324  Computers&Accessories|Accessories&Peripherals|...             249.0   \n",
       "\n",
       "     actual_price  discount_percentage  rating  rating_count  \\\n",
       "282         999.0                 0.80     3.0           NaN   \n",
       "324         999.0                 0.75     5.0           NaN   \n",
       "\n",
       "                                         about_product  \\\n",
       "282  USB C to C Cable: This cable has type C connec...   \n",
       "324  💎[The Fastest Charge] - This iPhone USB C cabl...   \n",
       "\n",
       "                          user_id    user_name      review_id  \\\n",
       "282  AE7CFHY23VAJT2FI4NZKKP6GS2UQ       Pranav   RUB7U91HVZ30   \n",
       "324  AGJC5O5H5BBXWUV7WRIEIOOR3TVQ  Abdul Gafur  RQXD5SAMMPC6L   \n",
       "\n",
       "                                     review_title  \\\n",
       "282  The cable works but is not 65W as advertised   \n",
       "324                               Awesome Product   \n",
       "\n",
       "                                        review_content  \\\n",
       "282  I have a pd supported car charger and I bought...   \n",
       "324  Quick delivery.Awesome ProductPacking was good...   \n",
       "\n",
       "                                              img_link  \\\n",
       "282  https://m.media-amazon.com/images/W/WEBP_40237...   \n",
       "324  https://m.media-amazon.com/images/I/31-q0xhaTA...   \n",
       "\n",
       "                                          product_link  \n",
       "282  https://www.amazon.in/Amazon-Brand-Charging-Su...  \n",
       "324  https://www.amazon.in/REDTECH-Lightning-Certif...  "
      ]
     },
     "execution_count": 18,
     "metadata": {},
     "output_type": "execute_result"
    }
   ],
   "source": [
    "df[df['rating_count'].isnull()].head(5)"
   ]
  },
  {
   "cell_type": "code",
   "execution_count": 19,
   "metadata": {},
   "outputs": [],
   "source": [
    "# Impute missing values\n",
    "df['rating_count'] = df.rating_count.fillna(value=df['rating_count'].median())"
   ]
  },
  {
   "cell_type": "code",
   "execution_count": 20,
   "metadata": {},
   "outputs": [
    {
     "data": {
      "text/plain": [
       "product_id             0\n",
       "product_name           0\n",
       "category               0\n",
       "discounted_price       0\n",
       "actual_price           0\n",
       "discount_percentage    0\n",
       "rating                 0\n",
       "rating_count           0\n",
       "about_product          0\n",
       "user_id                0\n",
       "user_name              0\n",
       "review_id              0\n",
       "review_title           0\n",
       "review_content         0\n",
       "img_link               0\n",
       "product_link           0\n",
       "dtype: int64"
      ]
     },
     "execution_count": 20,
     "metadata": {},
     "output_type": "execute_result"
    }
   ],
   "source": [
    "df.isnull().sum().sort_values(ascending = False)"
   ]
  },
  {
   "cell_type": "code",
   "execution_count": 21,
   "metadata": {},
   "outputs": [
    {
     "name": "stdout",
     "output_type": "stream",
     "text": [
      "<class 'pandas.core.frame.DataFrame'>\n",
      "RangeIndex: 1465 entries, 0 to 1464\n",
      "Data columns (total 16 columns):\n",
      " #   Column               Non-Null Count  Dtype  \n",
      "---  ------               --------------  -----  \n",
      " 0   product_id           1465 non-null   object \n",
      " 1   product_name         1465 non-null   object \n",
      " 2   category             1465 non-null   object \n",
      " 3   discounted_price     1465 non-null   float64\n",
      " 4   actual_price         1465 non-null   float64\n",
      " 5   discount_percentage  1465 non-null   float64\n",
      " 6   rating               1465 non-null   float64\n",
      " 7   rating_count         1465 non-null   float64\n",
      " 8   about_product        1465 non-null   object \n",
      " 9   user_id              1465 non-null   object \n",
      " 10  user_name            1465 non-null   object \n",
      " 11  review_id            1465 non-null   object \n",
      " 12  review_title         1465 non-null   object \n",
      " 13  review_content       1465 non-null   object \n",
      " 14  img_link             1465 non-null   object \n",
      " 15  product_link         1465 non-null   object \n",
      "dtypes: float64(5), object(11)\n",
      "memory usage: 183.3+ KB\n"
     ]
    }
   ],
   "source": [
    "df.info()"
   ]
  },
  {
   "cell_type": "markdown",
   "metadata": {},
   "source": [
    "# Second step\n",
    "Find Duplicates"
   ]
  },
  {
   "cell_type": "code",
   "execution_count": 22,
   "metadata": {},
   "outputs": [
    {
     "data": {
      "text/plain": [
       "False"
      ]
     },
     "execution_count": 22,
     "metadata": {},
     "output_type": "execute_result"
    }
   ],
   "source": [
    "# Find Duplicate\n",
    "df.duplicated().any()"
   ]
  },
  {
   "cell_type": "code",
   "execution_count": 23,
   "metadata": {},
   "outputs": [],
   "source": [
    "any_duplicates = df.duplicated(subset=['product_id', 'product_name', 'category', 'discounted_price',\n",
    "'actual_price', 'discount_percentage', 'rating', 'rating_count',\n",
    "'about_product', 'user_id', 'user_name', 'review_id', 'review_title',\n",
    "'review_content', 'img_link', 'product_link']).any()"
   ]
  },
  {
   "cell_type": "code",
   "execution_count": 24,
   "metadata": {},
   "outputs": [
    {
     "data": {
      "text/plain": [
       "False"
      ]
     },
     "execution_count": 24,
     "metadata": {},
     "output_type": "execute_result"
    }
   ],
   "source": [
    "any_duplicates"
   ]
  },
  {
   "cell_type": "code",
   "execution_count": 25,
   "metadata": {},
   "outputs": [],
   "source": [
    "data = df.to_csv(\"new.csv\")\n"
   ]
  },
  {
   "cell_type": "markdown",
   "metadata": {},
   "source": [
    "Data Visualization"
   ]
  },
  {
   "cell_type": "markdown",
   "metadata": {},
   "source": [
    "Scatter Plot"
   ]
  },
  {
   "cell_type": "code",
   "execution_count": 26,
   "metadata": {},
   "outputs": [
    {
     "data": {
      "image/png": "[encoded data removed]",
      "text/plain": [
       "<Figure size 640x480 with 1 Axes>"
      ]
     },
     "metadata": {},
     "output_type": "display_data"
    }
   ],
   "source": [
    "# Plot actual_price vs. rating\n",
    "plt.scatter(df['actual_price'], df['rating'])\n",
    "plt.xlabel('Actual_price')\n",
    "plt.ylabel('Rating')\n",
    "plt.show()"
   ]
  },
  {
   "cell_type": "markdown",
   "metadata": {},
   "source": [
    "# Questions And Answers"
   ]
  },
  {
   "cell_type": "markdown",
   "metadata": {},
   "source": [
    "# Q1: What is the average rating for each product category?"
   ]
  },
  {
   "cell_type": "code",
   "execution_count": 27,
   "metadata": {},
   "outputs": [
    {
     "name": "stdout",
     "output_type": "stream",
     "text": [
      "float64\n",
      "                                              category    rating\n",
      "0    Car&Motorbike|CarAccessories|InteriorAccessori...  3.800000\n",
      "1    Computers&Accessories|Accessories&Peripherals|...  4.150000\n",
      "2    Computers&Accessories|Accessories&Peripherals|...  3.500000\n",
      "3    Computers&Accessories|Accessories&Peripherals|...  3.600000\n",
      "4    Computers&Accessories|Accessories&Peripherals|...  4.050000\n",
      "..                                                 ...       ...\n",
      "206  OfficeProducts|OfficePaperProducts|Paper|Stati...  4.250000\n",
      "207  OfficeProducts|OfficePaperProducts|Paper|Stati...  4.150000\n",
      "208  OfficeProducts|OfficePaperProducts|Paper|Stati...  4.300000\n",
      "209  OfficeProducts|OfficePaperProducts|Paper|Stati...  4.133333\n",
      "210  Toys&Games|Arts&Crafts|Drawing&PaintingSupplie...  4.300000\n",
      "\n",
      "[211 rows x 2 columns]\n"
     ]
    }
   ],
   "source": [
    "# Check the data type of the \"rating\" column\n",
    "print(df[\"rating\"].dtype)\n",
    "\n",
    "    \n",
    "    \n",
    "# Calculate the average ratings after ensuring numeric data type\n",
    "average_ratings = df.groupby(\"category\")[\"rating\"].mean().reset_index()\n",
    "print(average_ratings)"
   ]
  },
  {
   "cell_type": "markdown",
   "metadata": {},
   "source": [
    "Analysis of Customer Feedback\n",
    "The output indicates that most product categories generally receive positive customer feedback, with average ratings above 3.50. However, there are a few categories (e.g., 2 and 3) that have lower ratings, suggesting potential areas for improvement.\n",
    "\n",
    "Key Insights:\n",
    "Overall Positive Feedback: Most categories are rated above 3.50, indicating satisfactory customer experiences.\n",
    "Categories with Lower Ratings: Categories 2 and 3 show lower average ratings, highlighting areas that may need further attention."
   ]
  },
  {
   "cell_type": "code",
   "execution_count": null,
   "metadata": {},
   "outputs": [],
   "source": []
  },
  {
   "cell_type": "markdown",
   "metadata": {},
   "source": [
    "# Q2: What are the top rating_count products by category?"
   ]
  },
  {
   "cell_type": "code",
   "execution_count": 28,
   "metadata": {},
   "outputs": [
    {
     "name": "stdout",
     "output_type": "stream",
     "text": [
      "     product_id                                       product_name  \\\n",
      "0    B0912WJ87V  Reffair AX30 [MAX] Portable Air Purifier for C...   \n",
      "1    B097C564GC  rts [2 Pack] Mini USB C Type C Adapter Plug, T...   \n",
      "2    B094DQWV9B  Kanget [2 Pack] Type C Female to USB A Male Ch...   \n",
      "3    B009LJ2BXA  Hp Wired On Ear Headphones With Mic With 3.5 M...   \n",
      "4    B08SCCG9D4  JBL Commercial CSLM20B Auxiliary Omnidirection...   \n",
      "..          ...                                                ...   \n",
      "815  B00LOD70SC  Pilot V7 Liquid Ink Roller Ball Pen (2 Blue + ...   \n",
      "816  B07SBGFDX9     Pentonic Multicolor Ball Point Pen, Pack of 10   \n",
      "817  B00LZPQVMK  Parker Vector Standard Chrome Trim Ball Pen (I...   \n",
      "818  B0746N6WML  Parker Vector Camouflage Gift Set - Roller Bal...   \n",
      "819  B00DJ5N9VK  Faber-Castell Connector Pen Set - Pack of 25 (...   \n",
      "\n",
      "                                              category  discounted_price  \\\n",
      "0    Car&Motorbike|CarAccessories|InteriorAccessori...            2339.0   \n",
      "1    Computers&Accessories|Accessories&Peripherals|...             294.0   \n",
      "2    Computers&Accessories|Accessories&Peripherals|...             149.0   \n",
      "3    Computers&Accessories|Accessories&Peripherals|...             649.0   \n",
      "4    Computers&Accessories|Accessories&Peripherals|...             949.0   \n",
      "..                                                 ...               ...   \n",
      "815  OfficeProducts|OfficePaperProducts|Paper|Stati...             178.0   \n",
      "816  OfficeProducts|OfficePaperProducts|Paper|Stati...             120.0   \n",
      "817  OfficeProducts|OfficePaperProducts|Paper|Stati...             272.0   \n",
      "818  OfficeProducts|OfficePaperProducts|Paper|Stati...             341.0   \n",
      "819  Toys&Games|Arts&Crafts|Drawing&PaintingSupplie...             150.0   \n",
      "\n",
      "     actual_price  discount_percentage  rating  rating_count  \\\n",
      "0          4000.0                 0.42     3.8        1118.0   \n",
      "1          4999.0                 0.94     4.3        4426.0   \n",
      "2           399.0                 0.63     4.0        1540.0   \n",
      "3           999.0                 0.35     3.5        7222.0   \n",
      "4          2000.0                 0.53     3.9       14969.0   \n",
      "..            ...                  ...     ...           ...   \n",
      "815         210.0                 0.15     4.3        2450.0   \n",
      "816         120.0                 0.00     4.1        4308.0   \n",
      "817         320.0                 0.15     4.0        3686.0   \n",
      "818         450.0                 0.24     4.3        2493.0   \n",
      "819         150.0                 0.00     4.3       15867.0   \n",
      "\n",
      "                                         about_product  \\\n",
      "0    [NEW LAUNCH - INNOVATIVE DESIGN] EFFICIENT PUR...   \n",
      "1    【WIDER COMPATIBILITY】This USB C Female to USB ...   \n",
      "2    👍【USB C TO USB ADAPTER】-This is a USB C FEMALE...   \n",
      "3    Powerful bass and clear treble sounds|Wired co...   \n",
      "4    Omnidirectional pickup pattern|3.5mm TRRS jack...   \n",
      "..                                                 ...   \n",
      "815  Unique 3 dimple tip technology from Japan for ...   \n",
      "816  0.7 mm tip size|Black Body, Multicolor Ink(Bla...   \n",
      "817  A solid plastic body of the glossy black desig...   \n",
      "818  This charming looking pen is made up of ABS pl...   \n",
      "819  Simply draw and color or clip these pens toget...   \n",
      "\n",
      "                                               user_id  \\\n",
      "0    AG6W5HESRSDLBX3NCYOOUGFOWERA,AED4U5CF37HVSYPMD...   \n",
      "1    AGO5SRT3ESLNL5WTRQFD5BSIYPQA,AGGNODUMRADB3PQQT...   \n",
      "2    AFA6YM4NTFRGHHKYN5U7HUYEVSUA,AEB3EVUTQCHIE3PGI...   \n",
      "3    AFIZUD4UBB67LGWY6CVLRHKA75IA,AG2TD3527KNZZNE46...   \n",
      "4    AFROXVCIF6PZXFXLS7DLTPT2CGCQ,AHA4ODJMDNBNUVEUS...   \n",
      "..                                                 ...   \n",
      "815  AG3G7G2DUJKN5YMCOYZNCADKKJUQ,AH44B2X6AT45J37MH...   \n",
      "816  AGK76H5VGHDWFQD7JTHVKZNQ5BHA,AHWXK2FU23OBRZZUA...   \n",
      "817  AE3S2ZAEMH765KUJ57DR6HBZBB3Q,AHSIVUNTJMI5S5AJG...   \n",
      "818  AFVTO4K2IG5AYWZPOAEA2QGPZZ4A,AHWTCTHLUKPJP2IUI...   \n",
      "819  AE5D3EMPETKIA4VU4SZU5UIHXKQA,AFF76KWKCMR6GNPUX...   \n",
      "\n",
      "                                             user_name  \\\n",
      "0    Arivazhagan,Ajit,swanand pandit,Venkatesh S.,S...   \n",
      "1    Naga Sai Gadagottu,Neha Sharma,Amazon Customer...   \n",
      "2    Abhi_K,Amazon Customer,Swap,shivam,Abhinav Sin...   \n",
      "3    Deepthi,Nitin Mishra,Raju Chacko,A.VISWANATHAR...   \n",
      "4    Ansh KaTariA,Saqlain Shaikh,Sardar V.,Rushikes...   \n",
      "..                                                 ...   \n",
      "815  Madhusmita singh,Sandeep Singh,Jay OG,Asim,Vik...   \n",
      "816  Parul S.,Prateek Tiwari,kateriki,golla ramesh,...   \n",
      "817  Fardeen mujawar,Pavan,Danny,Siddhartha Pratap,...   \n",
      "818  Good,Aayush,Nupur Gupta,Gunjan Sengupta,Syed T...   \n",
      "819  Aradhna Aadhya,sonali ghosh,Sam,VGRK,Surfer007...   \n",
      "\n",
      "                                             review_id  \\\n",
      "0    R3TOOFPX256D59,R1PR50BDQOEIIO,R392FI4QWXWOX5,R...   \n",
      "1    R3CUNCZTU43JPP,RSO46BN8S4OSU,R2UD5D7T4DZRE5,R2...   \n",
      "2    R1QIWMR6C3F3U0,R1MSGOZTOMZE4B,R20OZCEE82GU0W,R...   \n",
      "3    R392ZYXC6D3GY0,R1MJHZXZ09ETAE,R20PJKJTCF9RXN,R...   \n",
      "4    R20M6JOASW88SS,RPM4RV2MQNNN0,R19KRP5SDTN2NL,R1...   \n",
      "..                                                 ...   \n",
      "815  R1AY8EXPHPWDDR,R24503W0UJGTMU,R27P97SD5T4MUX,R...   \n",
      "816  R1FXYA8WISUWTK,R2C5SUFAIFCKV9,RD87PA0KNH3GQ,R1...   \n",
      "817  RD6OIJUG0R241,R3EUJ7A6LG8X7V,R1DWGT4USEVGYK,R1...   \n",
      "818  R37OWPWWYU7L3G,R2AQ3J8DYODY55,RA0RPO7G5XXOL,R1...   \n",
      "819  R39PYNXMLNEIYW,R3AMNR0LJWNAUU,R2P5M80U8OL9OQ,R...   \n",
      "\n",
      "                                          review_title  \\\n",
      "0    Liked it,User friendly and effective,Not as pe...   \n",
      "1    Tiny helping hand,Good product,As a whole good...   \n",
      "2    Good and does it’s work,Nice product working a...   \n",
      "3    Headset,Overall a good product. Sound quality ...   \n",
      "4    It's just good !,Good for WFH,Works according ...   \n",
      "..                                                 ...   \n",
      "815  It's good,Good,One of the few items on amazon ...   \n",
      "816  Average,I like the 'Pentonic' pens,which is wh...   \n",
      "817  Ok,Like all other ball pens,Regular pen over p...   \n",
      "818  Good,Made for special ones,Good Product,Awesom...   \n",
      "819  As this was my 2nd order for same product.2nd ...   \n",
      "\n",
      "                                        review_content  \\\n",
      "0    As of now its working fine, but don't expect m...   \n",
      "1    This eliminates the need to buy chargers for t...   \n",
      "2    Using it to connect my type C Plantronic headp...   \n",
      "3    Not a perfect fit for long usage,One problem y...   \n",
      "4    It just good for beginners you can start your ...   \n",
      "..                                                 ...   \n",
      "815  Everything is fine but it's bit dark and stick...   \n",
      "816  It's good, but they give 2 different shades of...   \n",
      "817  Can buy but only when price is less,It's not t...   \n",
      "818  Good,Amazing,Nice pen and keychain,I just live...   \n",
      "819  Torn packing.dekhne me product used lg rha tha...   \n",
      "\n",
      "                                              img_link  \\\n",
      "0    https://m.media-amazon.com/images/W/WEBP_40237...   \n",
      "1    https://m.media-amazon.com/images/W/WEBP_40237...   \n",
      "2    https://m.media-amazon.com/images/W/WEBP_40237...   \n",
      "3    https://m.media-amazon.com/images/I/31eE6slx4E...   \n",
      "4    https://m.media-amazon.com/images/I/41U9-x0JGP...   \n",
      "..                                                 ...   \n",
      "815  https://m.media-amazon.com/images/I/31pJvN8OkS...   \n",
      "816  https://m.media-amazon.com/images/I/410DCX0vt4...   \n",
      "817  https://m.media-amazon.com/images/W/WEBP_40237...   \n",
      "818  https://m.media-amazon.com/images/W/WEBP_40237...   \n",
      "819  https://m.media-amazon.com/images/I/41rJGx-w9i...   \n",
      "\n",
      "                                          product_link  \n",
      "0    https://www.amazon.in/Reffair-AX30-MAX-Interna...  \n",
      "1    https://www.amazon.in/rts-Adapter-Charging-Con...  \n",
      "2    https://www.amazon.in/Kanget-Female-Adapter-St...  \n",
      "3    https://www.amazon.in/HP-B4B09PA-Headphones-wi...  \n",
      "4    https://www.amazon.in/JBL-Commercial-Omnidirec...  \n",
      "..                                                 ...  \n",
      "815  https://www.amazon.in/Pilot-Liquid-Roller-Ball...  \n",
      "816  https://www.amazon.in/Linc-Ball-Point-Pentonic...  \n",
      "817  https://www.amazon.in/Parker-Vector-Standard-B...  \n",
      "818  https://www.amazon.in/Parker-Vector-Camouflage...  \n",
      "819  https://www.amazon.in/Faber-Castell-Connector-...  \n",
      "\n",
      "[820 rows x 16 columns]\n"
     ]
    }
   ],
   "source": [
    "\n",
    "top_reviewed_per_category = (\n",
    "df.groupby(\"category\")\n",
    ".apply(lambda x: x.nlargest(10, \"rating_count\"))\n",
    ".reset_index(drop=True)\n",
    ")\n",
    "print(top_reviewed_per_category)\n"
   ]
  },
  {
   "cell_type": "markdown",
   "metadata": {},
   "source": [
    "Analysis of Product Popularity\n",
    "The output highlights products that are likely to be popular within their categories, based on high review counts. This suggests significant customer interest and engagement.\n",
    "\n",
    "Key Insights:\n",
    "Review Counts: The review counts for products range from 9 to 15,867, indicating varying levels of attention and feedback across different products.\n",
    "Customer Ratings: Most listed products have ratings above 3.5, suggesting a generally positive customer experience."
   ]
  },
  {
   "cell_type": "code",
   "execution_count": null,
   "metadata": {},
   "outputs": [],
   "source": []
  },
  {
   "cell_type": "markdown",
   "metadata": {},
   "source": [
    "# Q3: What is the distribution of discounted prices vs actual prices?"
   ]
  },
  {
   "cell_type": "code",
   "execution_count": 29,
   "metadata": {},
   "outputs": [
    {
     "data": {
      "text/plain": [
       "<Axes: >"
      ]
     },
     "execution_count": 29,
     "metadata": {},
     "output_type": "execute_result"
    },
    {
     "data": {
      "image/png": "[encoded data removed]",
      "text/plain": [
       "<Figure size 640x480 with 1 Axes>"
      ]
     },
     "metadata": {},
     "output_type": "display_data"
    }
   ],
   "source": [
    "# Create histograms\n",
    "df[\"discounted_price\"].hist(label=\"Discounted Price\")\n",
    "df[\"actual_price\"].hist(label=\"Actual Price\")\n",
    "# Calculate and analyze discount percentages\n",
    "df[\"discount_percentage\"] = (df[\"actual_price\"] - df[\"discounted_price\"]) / df[\"actual_price\"] * 100\n",
    "df[\"discount_percentage\"].describe()\n",
    "df[\"discount_percentage\"].hist(label=\"Discount Percentage\")"
   ]
  },
  {
   "cell_type": "markdown",
   "metadata": {},
   "source": [
    "Analysis of Discounted Prices\n",
    "The output indicates that discounted prices are generally lower than actual prices, with a median discounted price of  \n",
    "200 and a median actual price of 400\n",
    "\n",
    "Key Insights:\n",
    "Median Discounted Price: $200\n",
    "Median Actual Price: $400\n",
    "Discount Percentage Distribution: The distribution is skewed to the left, with most products having a discount of 30% or less."
   ]
  },
  {
   "cell_type": "markdown",
   "metadata": {},
   "source": [
    "# Q4: How does the average discount percentage vary across categories?"
   ]
  },
  {
   "cell_type": "code",
   "execution_count": 30,
   "metadata": {},
   "outputs": [
    {
     "name": "stdout",
     "output_type": "stream",
     "text": [
      "category\n",
      "Car&Motorbike|CarAccessories|InteriorAccessories|AirPurifiers&Ionizers                                                    41.525000\n",
      "Computers&Accessories|Accessories&Peripherals|Adapters|USBtoUSBAdapters                                                   78.387733\n",
      "Computers&Accessories|Accessories&Peripherals|Audio&VideoAccessories|PCHeadsets                                           35.035035\n",
      "Computers&Accessories|Accessories&Peripherals|Audio&VideoAccessories|PCMicrophones                                        56.335120\n",
      "Computers&Accessories|Accessories&Peripherals|Audio&VideoAccessories|PCSpeakers                                           46.719582\n",
      "                                                                                                                            ...    \n",
      "OfficeProducts|OfficePaperProducts|Paper|Stationery|Pens,Pencils&WritingSupplies|Pens&Refills|GelInkRollerballPens         0.000000\n",
      "OfficeProducts|OfficePaperProducts|Paper|Stationery|Pens,Pencils&WritingSupplies|Pens&Refills|LiquidInkRollerballPens      5.000000\n",
      "OfficeProducts|OfficePaperProducts|Paper|Stationery|Pens,Pencils&WritingSupplies|Pens&Refills|RetractableBallpointPens    17.619048\n",
      "OfficeProducts|OfficePaperProducts|Paper|Stationery|Pens,Pencils&WritingSupplies|Pens&Refills|StickBallpointPens          13.074074\n",
      "Toys&Games|Arts&Crafts|Drawing&PaintingSupplies|ColouringPens&Markers                                                      0.000000\n",
      "Name: discount_percentage, Length: 211, dtype: float64\n"
     ]
    },
    {
     "data": {
      "image/png": "[encoded data removed]",
      "text/plain": [
       "<Figure size 640x480 with 1 Axes>"
      ]
     },
     "metadata": {},
     "output_type": "display_data"
    }
   ],
   "source": [
    "# Calculate average discount percentage per category\n",
    "avg_discount_per_category = df.groupby('category')['discount_percentage'].mean()\n",
    "# Display results\n",
    "print(avg_discount_per_category)\n",
    "# Optional: Visualization\n",
    "sns.barplot(x=avg_discount_per_category.index, y=avg_discount_per_category.values)\n",
    "plt.xlabel(\"Category\")\n",
    "plt.ylabel(\"Average Discount Percentage\")\n",
    "plt.show()"
   ]
  },
  {
   "cell_type": "markdown",
   "metadata": {},
   "source": [
    "Analysis of Average Discount Percentages\n",
    "The average discount percentages vary widely across categories, ranging from 0% to 78.39%.\n",
    "\n",
    "Key Insights:\n",
    "High Average Discounts:\n",
    "\n",
    "Category 1: 78.39%\n",
    "Category 3: 56.34%\n",
    "These high averages may indicate factors such as clearance efforts, high competition, or lower profit margins.\n",
    "Zero Average Discounts:\n",
    "\n",
    "Categories 0, 206, 207, 210: 0%\n",
    "This suggests consistent pricing or strong demand for products within these categories.\n",
    "Varying Discounts: Other categories exhibit a range of discount percentages, reflecting diverse pricing strategies and market dynamics."
   ]
  },
  {
   "cell_type": "markdown",
   "metadata": {},
   "source": [
    "# Q5: What are the most popular product name?\n"
   ]
  },
  {
   "cell_type": "code",
   "execution_count": 31,
   "metadata": {},
   "outputs": [
    {
     "name": "stdout",
     "output_type": "stream",
     "text": [
      "product_name\n",
      "Fire-Boltt Ninja Call Pro Plus 1.83\" Smart Watch with Bluetooth Calling, AI Voice Assistance, 100 Sports Modes IP67 Rating, 240*280 Pixel High Resolution                                                  5\n",
      "Fire-Boltt Phoenix Smart Watch with Bluetooth Calling 1.3\",120+ Sports Modes, 240*240 PX High Res with SpO2, Heart Rate Monitoring & IP67 Rating                                                           4\n",
      "Ambrane 2 in 1 Type-C & Micro USB Cable with 60W / 3A Fast Charging, 480 mbps High Data, PD Technology & Quick Charge 3.0, Compatible with All Type-C & Micro USB Devices (ABDC-10, Black)                 3\n",
      "Pinnaclz Original Combo of 2 Micro USB Fast Charging Cable, USB Charging Cable for Data Transfer Perfect for Android Smart Phones White 1.2 Meter Made in India (Pack of 2)                                3\n",
      "Portronics Konnect L POR-1081 Fast Charging 3A Type-C Cable 1.2Meter with Charge & Sync Function for All Type-C Devices (Grey)                                                                             3\n",
      "boAt Micro USB 55 Tangle-free, Sturdy Micro USB Cable with 3A Fast Charging & 480mbps Data Transmission (Black)                                                                                            3\n",
      "MI Usb Type-C Cable Smartphone (Black)                                                                                                                                                                     3\n",
      "pTron Solero TB301 3A Type-C Data and Fast Charging Cable, Made in India, 480Mbps Data Sync, Strong and Durable 1.5-Meter Nylon Braided USB Cable for Type-C Devices for Charging Adapter (Black)          3\n",
      "Portronics Konnect L 1.2M Fast Charging 3A 8 Pin USB Cable with Charge & Sync Function for iPhone, iPad (Grey)                                                                                             3\n",
      "boAt Deuce USB 300 2 in 1 Type-C & Micro USB Stress Resistant, Tangle-Free, Sturdy Cable with 3A Fast Charging & 480mbps Data Transmission, 10000+ Bends Lifespan and Extended 1.5m Length(Martian Red)    3\n",
      "Name: count, dtype: int64\n"
     ]
    }
   ],
   "source": [
    "# Count occurrences of product names\n",
    "product_counts = df[\"product_name\"].value_counts()\n",
    "# Sort in descending order and display top results\n",
    "\n",
    "print(product_counts.sort_values(ascending=False).head(10))"
   ]
  },
  {
   "cell_type": "markdown",
   "metadata": {},
   "source": [
    "Popularity Analysis\n",
    "Top Products:\n",
    "\n",
    "Fire-Boltt Ninja Call Pro Plus Smart Watch: The most popular product.\n",
    "Fire-Boltt Phoenix Smart Watch: The second most popular product.\n",
    "Popular Categories:\n",
    "\n",
    "Smart Watches\n",
    "Charging Cables\n",
    "Brand Representation:\n",
    "\n",
    "Multiple brands are represented.\n",
    "boAt appears twice.\n",
    "Key Features:\n",
    "\n",
    "Fast charging\n",
    "Durability\n",
    "Functionality\n",
    "Popularity Distribution:\n",
    "\n",
    "Beyond the leading products, popularity is relatively evenly distributed across other products."
   ]
  },
  {
   "cell_type": "markdown",
   "metadata": {},
   "source": [
    "# Q6: What is the correlation between discounted_price and rating?"
   ]
  },
  {
   "cell_type": "code",
   "execution_count": 32,
   "metadata": {},
   "outputs": [
    {
     "name": "stdout",
     "output_type": "stream",
     "text": [
      "Correlation between discounted_price and rating: 0.12\n"
     ]
    }
   ],
   "source": [
    "# Calculate the correlation coefficient\n",
    "correlation_coefficient = df[\"discounted_price\"].corr(df[\"rating\"])\n",
    "# Print the correlation coefficient with two decimal places\n",
    "print(f\"Correlation between discounted_price and rating: {correlation_coefficient:.2f}\")"
   ]
  },
  {
   "cell_type": "markdown",
   "metadata": {},
   "source": [
    "Discounted Price and Rating Correlation\n",
    "Correlation: Discounted price and rating have a weak positive correlation. This indicates that products with higher discounted prices tend to have slightly higher ratings. However, the relationship between discounted price and rating is not very strong."
   ]
  },
  {
   "cell_type": "markdown",
   "metadata": {},
   "source": [
    "# Q7: What are the Top 5 categories based with highest ratings?"
   ]
  },
  {
   "cell_type": "code",
   "execution_count": 33,
   "metadata": {},
   "outputs": [
    {
     "name": "stdout",
     "output_type": "stream",
     "text": [
      "Top 5 categories with Highest average ratings:\n",
      "1. nan: 4.60\n",
      "2. nan: 4.50\n",
      "3. nan: 4.50\n",
      "4. nan: 4.50\n",
      "5. nan: 4.50\n"
     ]
    }
   ],
   "source": [
    "#Group data by category and calculate average rating\n",
    "average_ratings = df.groupby(\"category\")[\"rating\"].mean().reset_index()\n",
    "\n",
    "\n",
    "# Example: map numeric IDs to category names if needed\n",
    "category_name_map = {\n",
    "    51: \"Computers & Accessories | Tablets\",\n",
    "    48: \"Computers & Accessories | Networking Devices | Network Adapters | PowerLAN Adapters\",\n",
    "    62: \"Electronics | Cameras & Photography | Accessories | Film\",\n",
    "    38: \"Electronics | Home Audio | Media Streaming Devices | Streaming Clients\",\n",
    "    81: \"Office Products | Office Electronics | Calculators | Basic\"\n",
    "}\n",
    "\n",
    "average_ratings[\"category\"] = average_ratings[\"category\"].map(category_name_map)\n",
    "\n",
    "# Sort by average rating in descending order\n",
    "average_ratings = average_ratings.sort_values(by=\"rating\", ascending=False)\n",
    "\n",
    "# Print the top 5 categories\n",
    "print(\"Top 5 categories with Highest average ratings:\")\n",
    "for i in range(5):\n",
    "    category = average_ratings.iloc[i][\"category\"]\n",
    "    average_rating = average_ratings.iloc[i][\"rating\"]\n",
    "    print(f\"{i+1}. {category}: {average_rating:.2f}\")"
   ]
  },
  {
   "cell_type": "markdown",
   "metadata": {},
   "source": [
    "Top 5 Categories with Highest Average Ratings\n",
    "Ratings: \n",
    "The top 5 categories have average ratings between 4.50 and 4.60, indicating overall positive customer satisfaction within these areas.\n",
    "Categories: \n",
    "Most of the top-rated categories fall within technology-related domains, including tablets, networking devices, photography accessories, media streaming devices, and calculators.\n",
    "Subcategories:\n",
    "Within broader categories like \"Computers & Accessories\" and \"Electronics,\" specific subcategories emerge as particularly well-rated, such as tablets, powerline adapters, film accessories, and streaming clients.\n",
    "Rating Distribution:\n",
    "Four categories share a rating of 4.50, suggesting similar levels of customer satisfaction across these areas.\n",
    "Simple Products: \n",
    "The presence of \"Basic Calculators\" in the top 5 suggests that even relatively simple products can achieve high ratings if they meet customer needs effectively."
   ]
  },
  {
   "cell_type": "code",
   "execution_count": null,
   "metadata": {},
   "outputs": [],
   "source": []
  },
  {
   "cell_type": "code",
   "execution_count": null,
   "metadata": {},
   "outputs": [],
   "source": []
  },
  {
   "cell_type": "code",
   "execution_count": null,
   "metadata": {},
   "outputs": [],
   "source": []
  },
  {
   "cell_type": "code",
   "execution_count": null,
   "metadata": {},
   "outputs": [],
   "source": []
  }
 ],
 "metadata": {
  "kernelspec": {
   "display_name": "Python 3 (ipykernel)",
   "language": "python",
   "name": "python3"
  },
  "language_info": {
   "codemirror_mode": {
    "name": "ipython",
    "version": 3
   },
   "file_extension": ".py",
   "mimetype": "text/x-python",
   "name": "python",
   "nbconvert_exporter": "python",
   "pygments_lexer": "ipython3",
   "version": "3.11.5"
  }
 },
 "nbformat": 4,
 "nbformat_minor": 2
}
